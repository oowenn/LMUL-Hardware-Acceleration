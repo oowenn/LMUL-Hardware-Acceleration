{
 "cells": [
  {
   "cell_type": "markdown",
   "metadata": {},
   "source": [
    "# Setup"
   ]
  },
  {
   "cell_type": "code",
   "execution_count": 10,
   "metadata": {},
   "outputs": [],
   "source": [
    "import subprocess\n",
    "import tempfile\n",
    "import os\n",
    "import struct\n",
    "import numpy as np\n",
    "# import matplotlib.pyplot as plt\n",
    "from typing import Tuple\n",
    "from pathlib import Path\n",
    "import time"
   ]
  },
  {
   "cell_type": "code",
   "execution_count": 2,
   "metadata": {},
   "outputs": [
    {
     "name": "stdout",
     "output_type": "stream",
     "text": [
      "CWD now: /workspaces/LMUL-Hardware-Acceleration\n"
     ]
    }
   ],
   "source": [
    "### SET CWD TO REPO ROOT\n",
    "\n",
    "os.chdir(Path.cwd().parent)\n",
    "print(\"CWD now:\", Path.cwd())"
   ]
  },
  {
   "cell_type": "markdown",
   "metadata": {},
   "source": [
    "# Utilities"
   ]
  },
  {
   "cell_type": "code",
   "execution_count": 3,
   "metadata": {},
   "outputs": [
    {
     "name": "stdout",
     "output_type": "stream",
     "text": [
      "✓ BF16 utilities ready\n"
     ]
    }
   ],
   "source": [
    "def float_to_bf16(f: float) -> int:\n",
    "    \"\"\"Convert float32 to bfloat16 (16-bit)\"\"\"\n",
    "    # Handle special cases\n",
    "    if np.isnan(f):\n",
    "        return 0x7FC0  # NaN\n",
    "    if np.isinf(f):\n",
    "        return 0xFF80 if f < 0 else 0x7F80  # +/- Infinity\n",
    "    \n",
    "    # Clamp to float32 range to avoid overflow\n",
    "    f = np.clip(f, -3.4e38, 3.4e38)\n",
    "    \n",
    "    # Get float32 bits\n",
    "    f32_bits = struct.unpack('>I', struct.pack('>f', np.float32(f)))[0]\n",
    "    # BF16 = top 16 bits of FP32\n",
    "    bf16_bits = (f32_bits >> 16) & 0xFFFF\n",
    "    return bf16_bits\n",
    "\n",
    "def bf16_to_float(bf16: int) -> float:\n",
    "    \"\"\"Convert bfloat16 to float32\"\"\"\n",
    "    # Shift back to FP32 position\n",
    "    f32_bits = (bf16 & 0xFFFF) << 16\n",
    "    return struct.unpack('>f', struct.pack('>I', f32_bits))[0]\n",
    "\n",
    "def unpack_bf16(bf16: int) -> Tuple[int, int, int]:\n",
    "    \"\"\"Unpack BF16 into sign, exponent, mantissa\"\"\"\n",
    "    sign = (bf16 >> 15) & 1\n",
    "    exp = (bf16 >> 7) & 0xFF\n",
    "    mant = bf16 & 0x7F\n",
    "    return sign, exp, mant\n",
    "\n",
    "def print_bf16(bf16: int, label: str = \"\"):\n",
    "    \"\"\"Pretty print BF16 representation\"\"\"\n",
    "    sign, exp, mant = unpack_bf16(bf16)\n",
    "    f = bf16_to_float(bf16)\n",
    "    print(f\"{label:20s} = 0x{bf16:04X} | s={sign} e={exp:3d} m={mant:3d} | float={f:+.6e}\")\n",
    "\n",
    "print(\"✓ BF16 utilities ready\")"
   ]
  },
  {
   "cell_type": "code",
   "execution_count": 4,
   "metadata": {},
   "outputs": [
    {
     "name": "stdout",
     "output_type": "stream",
     "text": [
      "✓ LMULTester ready\n"
     ]
    }
   ],
   "source": [
    "class LMULTester:\n",
    "    \"\"\"Test LMUL hardware with clock-based simulation\"\"\"\n",
    "    \n",
    "    def __init__(self, verilog_file='rtl/top_lmul.v'):\n",
    "        self.verilog_file = verilog_file\n",
    "        \n",
    "    def test(self, a_bf16: int, b_bf16: int) -> int:\n",
    "        \"\"\"\n",
    "        Test LMUL multiplication in hardware\n",
    "        \n",
    "        Args:\n",
    "            a_bf16: First operand as BF16 integer (16-bit)\n",
    "            b_bf16: Second operand as BF16 integer (16-bit)\n",
    "            \n",
    "        Returns:\n",
    "            result_bf16: Result as BF16 integer (16-bit)\n",
    "        \"\"\"\n",
    "        # Create testbench with clock\n",
    "        testbench = f'''\n",
    "`timescale 1ns/1ps\n",
    "\n",
    "module tb;\n",
    "    reg clk;\n",
    "    reg rstn;\n",
    "    reg i_valid;\n",
    "    wire i_ready;\n",
    "    reg [15:0] i_a;\n",
    "    reg [15:0] i_b;\n",
    "    wire o_valid;\n",
    "    reg o_ready;\n",
    "    wire [15:0] o_p;\n",
    "    \n",
    "    // Instantiate top module\n",
    "    top_lmul dut (\n",
    "        .clk(clk),\n",
    "        .rstn(rstn),\n",
    "        .i_valid(i_valid),\n",
    "        .i_ready(i_ready),\n",
    "        .i_a(i_a),\n",
    "        .i_b(i_b),\n",
    "        .o_valid(o_valid),\n",
    "        .o_ready(o_ready),\n",
    "        .o_p(o_p)\n",
    "    );\n",
    "    \n",
    "    // Clock generation\n",
    "    initial clk = 0;\n",
    "    always #5 clk = ~clk;  // 10ns period = 100MHz\n",
    "    \n",
    "    initial begin\n",
    "        // Reset\n",
    "        rstn = 0;\n",
    "        i_valid = 0;\n",
    "        i_a = 0;\n",
    "        i_b = 0;\n",
    "        o_ready = 1;  // Always ready to receive\n",
    "        \n",
    "        #20;\n",
    "        rstn = 1;\n",
    "        #10;\n",
    "        \n",
    "        // Apply inputs\n",
    "        i_a = 16'h{a_bf16:04x};\n",
    "        i_b = 16'h{b_bf16:04x};\n",
    "        i_valid = 1;\n",
    "        \n",
    "        // Wait for i_ready\n",
    "        @(posedge clk);\n",
    "        while (!i_ready) @(posedge clk);\n",
    "        \n",
    "        // Deassert valid after acceptance\n",
    "        @(posedge clk);\n",
    "        i_valid = 0;\n",
    "        \n",
    "        // Wait for output valid\n",
    "        while (!o_valid) @(posedge clk);\n",
    "        \n",
    "        // Display result\n",
    "        $display(\"%h\", o_p);\n",
    "        \n",
    "        #20;\n",
    "        $finish;\n",
    "    end\n",
    "    \n",
    "    // Timeout\n",
    "    initial begin\n",
    "        #1000;\n",
    "        $display(\"ERROR: Timeout\");\n",
    "        $finish;\n",
    "    end\n",
    "endmodule\n",
    "'''\n",
    "        \n",
    "        # Write testbench\n",
    "        with tempfile.NamedTemporaryFile(mode='w', suffix='.v', delete=False) as f:\n",
    "            tb_file = f.name\n",
    "            f.write(testbench)\n",
    "        \n",
    "        try:\n",
    "            # Compile\n",
    "            out_file = '/tmp/lmul_sim.out'\n",
    "            compile_result = subprocess.run(\n",
    "                ['iverilog', '-o', out_file, '-I', 'rtl', \n",
    "                 self.verilog_file, 'rtl/lmul_bf16.v', tb_file],\n",
    "                capture_output=True,\n",
    "                text=True\n",
    "            )\n",
    "            \n",
    "            if compile_result.returncode != 0:\n",
    "                print(\"STDERR:\", compile_result.stderr)\n",
    "                raise RuntimeError(f\"Compilation failed:\\n{compile_result.stderr}\")\n",
    "            \n",
    "            # Run simulation\n",
    "            sim_result = subprocess.run(\n",
    "                ['vvp', out_file],\n",
    "                capture_output=True,\n",
    "                text=True,\n",
    "                timeout=5\n",
    "            )\n",
    "            \n",
    "            # Extract result\n",
    "            output = sim_result.stdout.strip()\n",
    "            if output.startswith(\"ERROR\"):\n",
    "                raise RuntimeError(f\"Simulation error: {output}\")\n",
    "            \n",
    "            result = int(output, 16)\n",
    "            return result\n",
    "            \n",
    "        finally:\n",
    "            # Cleanup\n",
    "            if os.path.exists(tb_file):\n",
    "                os.remove(tb_file)\n",
    "            if os.path.exists(out_file):\n",
    "                os.remove(out_file)\n",
    "\n",
    "tester = LMULTester()\n",
    "print(\"✓ LMULTester ready\")"
   ]
  },
  {
   "cell_type": "code",
   "execution_count": 5,
   "metadata": {},
   "outputs": [
    {
     "name": "stdout",
     "output_type": "stream",
     "text": [
      "✓ Reference multiplication ready\n"
     ]
    }
   ],
   "source": [
    "def bf16_multiply_reference(a_bf16: int, b_bf16: int) -> int:\n",
    "    \"\"\"\n",
    "    Reference BF16 multiplication using actual floating point\n",
    "    \"\"\"\n",
    "    a_float = bf16_to_float(a_bf16)\n",
    "    b_float = bf16_to_float(b_bf16)\n",
    "    result_float = a_float * b_float\n",
    "    result_bf16 = float_to_bf16(result_float)\n",
    "    return result_bf16\n",
    "\n",
    "print(\"✓ Reference multiplication ready\")"
   ]
  },
  {
   "cell_type": "markdown",
   "metadata": {},
   "source": [
    "# Tests"
   ]
  },
  {
   "cell_type": "markdown",
   "metadata": {},
   "source": [
    "### Accuracy"
   ]
  },
  {
   "cell_type": "code",
   "execution_count": 8,
   "metadata": {},
   "outputs": [
    {
     "name": "stdout",
     "output_type": "stream",
     "text": [
      "============================================================\n",
      "BASIC TESTS\n",
      "============================================================\n",
      "\n",
      "1 * 1:\n",
      "  Input A:     +1.000000e+00 (0x3F80)\n",
      "  Input B:     +1.000000e+00 (0x3F80)\n",
      "  HW Result:   +1.000000e+00 (0x3F80)\n",
      "  Ref Result:  +1.000000e+00 (0x3F80)\n",
      "  Match: ✓\n",
      "\n",
      "2 * 3:\n",
      "  Input A:     +2.000000e+00 (0x4000)\n",
      "  Input B:     +3.000000e+00 (0x4040)\n",
      "  HW Result:   +6.000000e+00 (0x40C0)\n",
      "  Ref Result:  +6.000000e+00 (0x40C0)\n",
      "  Match: ✓\n",
      "\n",
      "0.5 * 0.5:\n",
      "  Input A:     +5.000000e-01 (0x3F00)\n",
      "  Input B:     +5.000000e-01 (0x3F00)\n",
      "  HW Result:   +2.500000e-01 (0x3E80)\n",
      "  Ref Result:  +2.500000e-01 (0x3E80)\n",
      "  Match: ✓\n",
      "\n",
      "1.5 * 2.0:\n",
      "  Input A:     +1.500000e+00 (0x3FC0)\n",
      "  Input B:     +2.000000e+00 (0x4000)\n",
      "  HW Result:   +3.000000e+00 (0x4040)\n",
      "  Ref Result:  +3.000000e+00 (0x4040)\n",
      "  Match: ✓\n",
      "\n",
      "-2 * 3:\n",
      "  Input A:     -2.000000e+00 (0xC000)\n",
      "  Input B:     +3.000000e+00 (0x4040)\n",
      "  HW Result:   -6.000000e+00 (0xC0C0)\n",
      "  Ref Result:  -6.000000e+00 (0xC0C0)\n",
      "  Match: ✓\n",
      "\n",
      "10 * 0.1:\n",
      "  Input A:     +1.000000e+01 (0x4120)\n",
      "  Input B:     +1.000000e-01 (0x3DCC)\n",
      "  HW Result:   +9.218750e-01 (0x3F6C)\n",
      "  Ref Result:  +9.960938e-01 (0x3F7F)\n",
      "  Match: ✗\n",
      "\n",
      "0 * 5 (zero):\n",
      "  Input A:     +0.000000e+00 (0x0000)\n",
      "  Input B:     +5.000000e+00 (0x40A0)\n",
      "  HW Result:   +0.000000e+00 (0x0000)\n",
      "  Ref Result:  +0.000000e+00 (0x0000)\n",
      "  Match: ✓\n",
      "\n",
      "tiny * tiny (underflow):\n",
      "  Input A:     +1.000000e-10 (0x2EDB)\n",
      "  Input B:     +1.000000e-10 (0x2EDB)\n",
      "  HW Result:   +9.635000e-21 (0x1E36)\n",
      "  Ref Result:  +9.899698e-21 (0x1E3B)\n",
      "  Match: ✗\n",
      "\n",
      "large * large (overflow test):\n",
      "  Input A:     +1.000000e+15 (0x5863)\n",
      "  Input B:     +1.000000e+15 (0x5863)\n",
      "  HW Result:   +9.804485e+29 (0x7146)\n",
      "  Ref Result:  +9.953038e+29 (0x7149)\n",
      "  Match: ✗\n"
     ]
    }
   ],
   "source": [
    "print(\"=\" * 60)\n",
    "print(\"BASIC TESTS\")\n",
    "print(\"=\" * 60)\n",
    "\n",
    "test_cases = [\n",
    "    (1.0, 1.0, \"1 * 1\"),\n",
    "    (2.0, 3.0, \"2 * 3\"),\n",
    "    (0.5, 0.5, \"0.5 * 0.5\"),\n",
    "    (1.5, 2.0, \"1.5 * 2.0\"),\n",
    "    (-2.0, 3.0, \"-2 * 3\"),\n",
    "    (10.0, 0.1, \"10 * 0.1\"),\n",
    "    (0.0, 5.0, \"0 * 5 (zero)\"),\n",
    "    (1e-10, 1e-10, \"tiny * tiny (underflow)\"),\n",
    "    (1e15, 1e15, \"large * large (overflow test)\"),\n",
    "]\n",
    "\n",
    "for a_float, b_float, desc in test_cases:\n",
    "    a_bf16 = float_to_bf16(a_float)\n",
    "    b_bf16 = float_to_bf16(b_float)\n",
    "    \n",
    "    # Hardware result\n",
    "    hw_result_bf16 = tester.test(a_bf16, b_bf16)\n",
    "    hw_result_float = bf16_to_float(hw_result_bf16)\n",
    "    \n",
    "    # Reference result\n",
    "    ref_result_bf16 = bf16_multiply_reference(a_bf16, b_bf16)\n",
    "    ref_result_float = bf16_to_float(ref_result_bf16)\n",
    "    \n",
    "    # Compare\n",
    "    match = \"✓\" if hw_result_bf16 == ref_result_bf16 else \"✗\"\n",
    "    \n",
    "    print(f\"\\n{desc}:\")\n",
    "    print(f\"  Input A:     {a_float:+.6e} (0x{a_bf16:04X})\")\n",
    "    print(f\"  Input B:     {b_float:+.6e} (0x{b_bf16:04X})\")\n",
    "    print(f\"  HW Result:   {hw_result_float:+.6e} (0x{hw_result_bf16:04X})\")\n",
    "    print(f\"  Ref Result:  {ref_result_float:+.6e} (0x{ref_result_bf16:04X})\")\n",
    "    print(f\"  Match: {match}\")"
   ]
  },
  {
   "cell_type": "markdown",
   "metadata": {},
   "source": [
    "### Speed"
   ]
  },
  {
   "cell_type": "code",
   "execution_count": 11,
   "metadata": {},
   "outputs": [],
   "source": [
    "# Prepare test data\n",
    "num_ops = 100\n",
    "np.random.seed(42)\n",
    "test_data = []\n",
    "for i in range(num_ops):\n",
    "    a_float = np.random.uniform(-10, 10)\n",
    "    b_float = np.random.uniform(-10, 10)\n",
    "    a_bf16 = float_to_bf16(a_float)\n",
    "    b_bf16 = float_to_bf16(b_float)\n",
    "    test_data.append((a_bf16, b_bf16, a_float, b_float))"
   ]
  },
  {
   "cell_type": "code",
   "execution_count": 12,
   "metadata": {},
   "outputs": [
    {
     "name": "stdout",
     "output_type": "stream",
     "text": [
      "1. LMUL Hardware (via iverilog simulation):\n",
      "   Total time: 0.773s\n",
      "   Per operation: 7.73ms\n",
      "   Throughput: 129.39 ops/sec\n"
     ]
    }
   ],
   "source": [
    "# Benchmark 1: LMUL Hardware (via simulation)\n",
    "print(\"1. LMUL Hardware (via iverilog simulation):\")\n",
    "start = time.time()\n",
    "hw_results = []\n",
    "for a_bf16, b_bf16, _, _ in test_data:\n",
    "    result = tester.test(a_bf16, b_bf16)\n",
    "    hw_results.append(bf16_to_float(result))\n",
    "hw_time = time.time() - start\n",
    "hw_per_op = hw_time / num_ops\n",
    "\n",
    "print(f\"   Total time: {hw_time:.3f}s\")\n",
    "print(f\"   Per operation: {hw_per_op*1000:.2f}ms\")\n",
    "print(f\"   Throughput: {num_ops/hw_time:.2f} ops/sec\")"
   ]
  },
  {
   "cell_type": "code",
   "execution_count": 13,
   "metadata": {},
   "outputs": [
    {
     "name": "stdout",
     "output_type": "stream",
     "text": [
      "\n",
      "2. Python float32 multiplication:\n",
      "   Total time: 0.000206s\n",
      "   Per operation: 2.06μs\n",
      "   Throughput: 485452 ops/sec\n"
     ]
    }
   ],
   "source": [
    "# Benchmark 2: Python float32 multiplication\n",
    "print(\"\\n2. Python float32 multiplication:\")\n",
    "start = time.time()\n",
    "py_results = []\n",
    "for _, _, a_float, b_float in test_data:\n",
    "    result = a_float * b_float\n",
    "    py_results.append(result)\n",
    "py_time = time.time() - start\n",
    "py_per_op = py_time / num_ops\n",
    "\n",
    "print(f\"   Total time: {py_time:.6f}s\")\n",
    "print(f\"   Per operation: {py_per_op*1e6:.2f}μs\")\n",
    "print(f\"   Throughput: {num_ops/py_time:.0f} ops/sec\")"
   ]
  },
  {
   "cell_type": "code",
   "execution_count": 14,
   "metadata": {},
   "outputs": [
    {
     "name": "stdout",
     "output_type": "stream",
     "text": [
      "\n",
      "3. NumPy vectorized multiplication:\n",
      "   Total time: 0.001236s\n",
      "   Per operation: 12.36μs\n",
      "   Throughput: 80877 ops/sec\n"
     ]
    }
   ],
   "source": [
    "# Benchmark 3: NumPy vectorized multiplication\n",
    "print(\"\\n3. NumPy vectorized multiplication:\")\n",
    "a_array = np.array([d[2] for d in test_data], dtype=np.float32)\n",
    "b_array = np.array([d[3] for d in test_data], dtype=np.float32)\n",
    "\n",
    "start = time.time()\n",
    "np_results = a_array * b_array\n",
    "np_time = time.time() - start\n",
    "np_per_op = np_time / num_ops\n",
    "\n",
    "print(f\"   Total time: {np_time:.6f}s\")\n",
    "print(f\"   Per operation: {np_per_op*1e6:.2f}μs\")\n",
    "print(f\"   Throughput: {num_ops/np_time:.0f} ops/sec\")"
   ]
  },
  {
   "cell_type": "code",
   "execution_count": 22,
   "metadata": {},
   "outputs": [
    {
     "name": "stdout",
     "output_type": "stream",
     "text": [
      "\n",
      "------------------------------------------------------------\n",
      "SPEED COMPARISON:\n",
      "------------------------------------------------------------\n",
      "Python FP32:      1.00x (baseline)\n",
      "NumPy vectorized: 0.17x faster than Python\n",
      "LMUL simulation:  0.00x faster than Python\n"
     ]
    }
   ],
   "source": [
    "# Summary comparison\n",
    "print(\"\\n\" + \"-\" * 60)\n",
    "print(\"SPEED COMPARISON:\")\n",
    "print(\"-\" * 60)\n",
    "print(f\"Python FP32:      1.00x (baseline)\")\n",
    "print(f\"NumPy vectorized: {py_time/np_time:.2f}x faster than Python\")\n",
    "print(f\"LMUL simulation:  {py_time/hw_time:.2f}x faster than Python\")"
   ]
  },
  {
   "cell_type": "markdown",
   "metadata": {},
   "source": [
    "Our LMUL speed performance is limited by overhead"
   ]
  }
 ],
 "metadata": {
  "kernelspec": {
   "display_name": "Python 3",
   "language": "python",
   "name": "python3"
  },
  "language_info": {
   "codemirror_mode": {
    "name": "ipython",
    "version": 3
   },
   "file_extension": ".py",
   "mimetype": "text/x-python",
   "name": "python",
   "nbconvert_exporter": "python",
   "pygments_lexer": "ipython3",
   "version": "3.10.12"
  }
 },
 "nbformat": 4,
 "nbformat_minor": 2
}
