{
 "cells": [
  {
   "cell_type": "code",
   "execution_count": 1,
   "metadata": {},
   "outputs": [
    {
     "name": "stdout",
     "output_type": "stream",
     "text": [
      "CWD now: /workspaces/LMUL-Hardware-Acceleration\n"
     ]
    }
   ],
   "source": [
    "import subprocess\n",
    "import tempfile\n",
    "import os\n",
    "import struct\n",
    "import numpy as np\n",
    "import matplotlib.pyplot as plt\n",
    "import time\n",
    "from pathlib import Path\n",
    "\n",
    "os.chdir(Path.cwd().parent)\n",
    "print(\"CWD now:\", Path.cwd())\n"
   ]
  },
  {
   "cell_type": "code",
   "execution_count": 2,
   "metadata": {},
   "outputs": [
    {
     "name": "stdout",
     "output_type": "stream",
     "text": [
      "✓ BF16 utilities ready\n"
     ]
    }
   ],
   "source": [
    "def float_to_bf16(f: float) -> int:\n",
    "    \"\"\"Convert float32 to bfloat16 (16-bit)\"\"\"\n",
    "    if np.isnan(f):\n",
    "        return 0x7FC0\n",
    "    if np.isinf(f):\n",
    "        return 0xFF80 if f < 0 else 0x7F80\n",
    "    f = np.clip(f, -3.4e38, 3.4e38)\n",
    "    f32_bits = struct.unpack('>I', struct.pack('>f', np.float32(f)))[0]\n",
    "    bf16_bits = (f32_bits >> 16) & 0xFFFF\n",
    "    return bf16_bits\n",
    "\n",
    "def bf16_to_float(bf16: int) -> float:\n",
    "    \"\"\"Convert bfloat16 to float32\"\"\"\n",
    "    f32_bits = (bf16 & 0xFFFF) << 16\n",
    "    return struct.unpack('>f', struct.pack('>I', f32_bits))[0]\n",
    "\n",
    "print(\"✓ BF16 utilities ready\")\n",
    "\n"
   ]
  },
  {
   "cell_type": "code",
   "execution_count": 6,
   "metadata": {},
   "outputs": [
    {
     "name": "stdout",
     "output_type": "stream",
     "text": [
      "✓ Batch tester ready\n"
     ]
    }
   ],
   "source": [
    "class BatchLMULTester:\n",
    "    \"\"\"Test LMUL with batch operations in single simulation\"\"\"\n",
    "    \n",
    "    def __init__(self, verilog_file='rtl/top_lmul.v'):\n",
    "        self.verilog_file = verilog_file\n",
    "        \n",
    "    def test_batch(self, test_pairs):\n",
    "        \"\"\"\n",
    "        Test multiple multiplications in one simulation run\n",
    "        \n",
    "        Args:\n",
    "            test_pairs: List of (a_bf16, b_bf16) tuples\n",
    "            \n",
    "        Returns:\n",
    "            List of result_bf16 values\n",
    "        \"\"\"\n",
    "        num_tests = len(test_pairs)\n",
    "        \n",
    "        # Generate test vectors\n",
    "        test_vectors = \"\"\n",
    "        for i, (a, b) in enumerate(test_pairs):\n",
    "            test_vectors += f\"        test_a[{i}] = 16'h{a:04x};\\n\"\n",
    "            test_vectors += f\"        test_b[{i}] = 16'h{b:04x};\\n\"\n",
    "        \n",
    "        # Create testbench\n",
    "        testbench = f'''\n",
    "`timescale 1ns/1ps\n",
    "\n",
    "module tb;\n",
    "    reg clk;\n",
    "    reg rstn;\n",
    "    reg i_valid;\n",
    "    wire i_ready;\n",
    "    reg [15:0] i_a;\n",
    "    reg [15:0] i_b;\n",
    "    wire o_valid;\n",
    "    reg o_ready;\n",
    "    wire [15:0] o_p;\n",
    "    \n",
    "    // Test vectors\n",
    "    reg [15:0] test_a [0:{num_tests-1}];\n",
    "    reg [15:0] test_b [0:{num_tests-1}];\n",
    "    reg [15:0] results [0:{num_tests-1}];\n",
    "    integer test_idx;\n",
    "    integer result_idx;\n",
    "    \n",
    "    // Instantiate DUT\n",
    "    top_lmul dut (\n",
    "        .clk(clk),\n",
    "        .rstn(rstn),\n",
    "        .i_valid(i_valid),\n",
    "        .i_ready(i_ready),\n",
    "        .i_a(i_a),\n",
    "        .i_b(i_b),\n",
    "        .o_valid(o_valid),\n",
    "        .o_ready(o_ready),\n",
    "        .o_p(o_p)\n",
    "    );\n",
    "    \n",
    "    // Clock generation\n",
    "    initial clk = 0;\n",
    "    always #5 clk = ~clk;  // 10ns period\n",
    "    \n",
    "    // Capture outputs\n",
    "    always @(posedge clk) begin\n",
    "        if (o_valid && o_ready) begin\n",
    "            results[result_idx] = o_p;\n",
    "            result_idx = result_idx + 1;\n",
    "        end\n",
    "    end\n",
    "    \n",
    "    // Capture outputs\n",
    "    always @(posedge clk) begin\n",
    "        if (o_valid && o_ready) begin\n",
    "            results[result_idx] = o_p;\n",
    "            result_idx = result_idx + 1;\n",
    "        end\n",
    "    end\n",
    "    \n",
    "    initial begin\n",
    "        // Initialize test vectors\n",
    "{test_vectors}\n",
    "        \n",
    "        // Reset\n",
    "        rstn = 0;\n",
    "        i_valid = 0;\n",
    "        i_a = 0;\n",
    "        i_b = 0;\n",
    "        o_ready = 1;  // Always ready to accept outputs\n",
    "        test_idx = 0;\n",
    "        result_idx = 0;\n",
    "        \n",
    "        repeat(4) @(posedge clk);\n",
    "        rstn = 1;\n",
    "        repeat(2) @(posedge clk);\n",
    "        \n",
    "        for (test_idx = 0; test_idx < {num_tests}; test_idx = test_idx + 1) begin\n",
    "            // Wait for ready\n",
    "            while (!i_ready) @(posedge clk);\n",
    "            \n",
    "            // Apply inputs\n",
    "            i_a = test_a[test_idx];\n",
    "            i_b = test_b[test_idx];\n",
    "            i_valid = 1;\n",
    "            \n",
    "            // Wait one clock\n",
    "            @(posedge clk);\n",
    "        end\n",
    "        \n",
    "        // Deassert valid\n",
    "        i_valid = 0;\n",
    "        \n",
    "        while (result_idx < {num_tests}) begin\n",
    "            @(posedge clk);\n",
    "        end\n",
    "        \n",
    "        // Extra cycles for safety\n",
    "        repeat(5) @(posedge clk);\n",
    "        \n",
    "        // Display results\n",
    "        for (test_idx = 0; test_idx < {num_tests}; test_idx = test_idx + 1) begin\n",
    "            $display(\"%04h\", results[test_idx]);\n",
    "        end\n",
    "        \n",
    "        $finish;\n",
    "    end\n",
    "    \n",
    "    initial begin\n",
    "        #{200 + num_tests * 100};\n",
    "        $display(\"ERROR: Timeout\");\n",
    "        $finish;\n",
    "    end\n",
    "endmodule\n",
    "'''\n",
    "        \n",
    "        # Write testbench\n",
    "        with tempfile.NamedTemporaryFile(mode='w', suffix='.v', delete=False) as f:\n",
    "            tb_file = f.name\n",
    "            f.write(testbench)\n",
    "        \n",
    "        try:\n",
    "            # Compile\n",
    "            rtl_dir = os.path.abspath('rtl')\n",
    "            top_file = os.path.join(rtl_dir, 'top_lmul.v')\n",
    "            lmul_file = os.path.join(rtl_dir, 'lmul_bf16.v')\n",
    "            out_file = '/tmp/lmul_batch_sim.out'\n",
    "            \n",
    "            compile_result = subprocess.run(\n",
    "                ['iverilog', '-o', out_file, '-g2012',\n",
    "                 top_file, lmul_file, tb_file],\n",
    "                capture_output=True,\n",
    "                text=True\n",
    "            )\n",
    "            \n",
    "            if compile_result.returncode != 0:\n",
    "                raise RuntimeError(f\"Compilation failed:\\n{compile_result.stderr}\")\n",
    "            \n",
    "            # Run simulation\n",
    "            sim_result = subprocess.run(\n",
    "                ['vvp', out_file],\n",
    "                capture_output=True,\n",
    "                text=True,\n",
    "                timeout=10\n",
    "            )\n",
    "            \n",
    "            # Parse results\n",
    "            lines = sim_result.stdout.strip().split('\\n')\n",
    "            results = []\n",
    "            for line in lines:\n",
    "                if line.startswith(\"ERROR\"):\n",
    "                    raise RuntimeError(f\"Simulation error: {line}\")\n",
    "                try:\n",
    "                    results.append(int(line, 16))\n",
    "                except ValueError:\n",
    "                    continue\n",
    "            \n",
    "            return results\n",
    "            \n",
    "        finally:\n",
    "            # Cleanup\n",
    "            if os.path.exists(tb_file):\n",
    "                os.remove(tb_file)\n",
    "            if os.path.exists(out_file):\n",
    "                os.remove(out_file)\n",
    "\n",
    "batch_tester = BatchLMULTester()\n",
    "print(\"✓ Batch tester ready\")"
   ]
  },
  {
   "cell_type": "code",
   "execution_count": 8,
   "metadata": {},
   "outputs": [
    {
     "name": "stdout",
     "output_type": "stream",
     "text": [
      "\n",
      "Testing batch functionality with 5 operations...\n",
      "\n",
      "Results:\n",
      "  +2.0000 * +3.0000 = +0.000000 (expected: +6.000000)\n",
      "  +0.5000 * +0.5000 = +0.000000 (expected: +0.250000)\n",
      "  +10.0000 * +0.0996 = +6.000000 (expected: +0.996094)\n",
      "  -2.0000 * +3.0000 = +6.000000 (expected: -6.000000)\n",
      "  +1.5000 * +2.0000 = +0.250000 (expected: +3.000000)\n",
      "✓ Batch test complete\n"
     ]
    }
   ],
   "source": [
    "print(\"\\nTesting batch functionality with 5 operations...\")\n",
    "\n",
    "test_cases = [\n",
    "    (float_to_bf16(2.0), float_to_bf16(3.0)),\n",
    "    (float_to_bf16(0.5), float_to_bf16(0.5)),\n",
    "    (float_to_bf16(10.0), float_to_bf16(0.1)),\n",
    "    (float_to_bf16(-2.0), float_to_bf16(3.0)),\n",
    "    (float_to_bf16(1.5), float_to_bf16(2.0)),\n",
    "]\n",
    "\n",
    "results = batch_tester.test_batch(test_cases)\n",
    "\n",
    "print(\"\\nResults:\")\n",
    "for i, ((a, b), result) in enumerate(zip(test_cases, results)):\n",
    "    a_f = bf16_to_float(a)\n",
    "    b_f = bf16_to_float(b)\n",
    "    r_f = bf16_to_float(result)\n",
    "    expected = a_f * b_f\n",
    "    print(f\"  {a_f:+.4f} * {b_f:+.4f} = {r_f:+.6f} (expected: {expected:+.6f})\")\n",
    "\n",
    "print(\"✓ Batch test complete\")\n"
   ]
  },
  {
   "cell_type": "code",
   "execution_count": 12,
   "metadata": {},
   "outputs": [
    {
     "name": "stdout",
     "output_type": "stream",
     "text": [
      "✓ Test data generated\n"
     ]
    }
   ],
   "source": [
    "# Generate test data\n",
    "num_ops = 1000\n",
    "np.random.seed(42)\n",
    "test_data = []\n",
    "for i in range(num_ops):\n",
    "    a_float = np.random.uniform(-10, 10)\n",
    "    b_float = np.random.uniform(-10, 10)\n",
    "    a_bf16 = float_to_bf16(a_float)\n",
    "    b_bf16 = float_to_bf16(b_float)\n",
    "    test_data.append((a_bf16, b_bf16, a_float, b_float))\n",
    "\n",
    "print(\"✓ Test data generated\")"
   ]
  },
  {
   "cell_type": "code",
   "execution_count": 13,
   "metadata": {},
   "outputs": [
    {
     "name": "stdout",
     "output_type": "stream",
     "text": [
      "1. LMUL Hardware (batch simulation):\n",
      "   Total time: 0.075s\n",
      "   Per operation: 74.57μs\n",
      "   Throughput: 13409.67 ops/sec\n"
     ]
    }
   ],
   "source": [
    "# Benchmark 1: LMUL Hardware (batch mode)\n",
    "print(\"1. LMUL Hardware (batch simulation):\")\n",
    "test_pairs = [(a_bf16, b_bf16) for a_bf16, b_bf16, _, _ in test_data]\n",
    "\n",
    "start = time.time()\n",
    "hw_results_bf16 = batch_tester.test_batch(test_pairs)\n",
    "hw_time = time.time() - start\n",
    "hw_per_op = hw_time / num_ops\n",
    "\n",
    "hw_results = [bf16_to_float(r) for r in hw_results_bf16]\n",
    "\n",
    "print(f\"   Total time: {hw_time:.3f}s\")\n",
    "print(f\"   Per operation: {hw_per_op*1e6:.2f}μs\")\n",
    "print(f\"   Throughput: {num_ops/hw_time:.2f} ops/sec\")"
   ]
  },
  {
   "cell_type": "code",
   "execution_count": 16,
   "metadata": {},
   "outputs": [
    {
     "name": "stdout",
     "output_type": "stream",
     "text": [
      "\n",
      "2. Python float32 multiplication:\n",
      "   Total time: 0.000987s\n",
      "   Per operation: 0.99μs\n",
      "   Throughput: 1013117 ops/sec\n"
     ]
    }
   ],
   "source": [
    "# Benchmark 2: Python float32\n",
    "print(\"\\n2. Python float32 multiplication:\")\n",
    "start = time.time()\n",
    "py_results = []\n",
    "for _, _, a_float, b_float in test_data:\n",
    "    result = a_float * b_float\n",
    "    py_results.append(result)\n",
    "py_time = time.time() - start\n",
    "py_per_op = py_time / num_ops\n",
    "\n",
    "print(f\"   Total time: {py_time:.6f}s\")\n",
    "print(f\"   Per operation: {py_per_op*1e6:.2f}μs\")\n",
    "print(f\"   Throughput: {num_ops/py_time:.0f} ops/sec\")"
   ]
  },
  {
   "cell_type": "code",
   "execution_count": 15,
   "metadata": {},
   "outputs": [
    {
     "name": "stdout",
     "output_type": "stream",
     "text": [
      "\n",
      "3. NumPy vectorized multiplication:\n",
      "   Total time: 0.000309s\n",
      "   Per operation: 0.31μs\n",
      "   Throughput: 3231359 ops/sec\n"
     ]
    }
   ],
   "source": [
    "# Benchmark 3: NumPy vectorized\n",
    "print(\"\\n3. NumPy vectorized multiplication:\")\n",
    "a_array = np.array([d[2] for d in test_data], dtype=np.float32)\n",
    "b_array = np.array([d[3] for d in test_data], dtype=np.float32)\n",
    "\n",
    "start = time.time()\n",
    "np_results = a_array * b_array\n",
    "np_time = time.time() - start\n",
    "np_per_op = np_time / num_ops\n",
    "\n",
    "print(f\"   Total time: {np_time:.6f}s\")\n",
    "print(f\"   Per operation: {np_per_op*1e6:.2f}μs\")\n",
    "print(f\"   Throughput: {num_ops/np_time:.0f} ops/sec\")"
   ]
  },
  {
   "cell_type": "code",
   "execution_count": 19,
   "metadata": {},
   "outputs": [
    {
     "name": "stdout",
     "output_type": "stream",
     "text": [
      "\n",
      "------------------------------------------------------------\n",
      "SPEED COMPARISON:\n",
      "------------------------------------------------------------\n",
      "Python FP32:         1.00x (baseline)\n",
      "NumPy vectorized:    3.19x faster\n",
      "LMUL batch sim:      0.01x vs Python\n",
      "                     (0.00x vs NumPy)\n"
     ]
    }
   ],
   "source": [
    "# Summary\n",
    "print(\"\\n\" + \"-\" * 60)\n",
    "print(\"SPEED COMPARISON:\")\n",
    "print(\"-\" * 60)\n",
    "print(f\"Python FP32:         1.00x (baseline)\")\n",
    "print(f\"NumPy vectorized:    {py_time/np_time:.2f}x faster\")\n",
    "print(f\"LMUL batch sim:      {py_time/hw_time:.2f}x vs Python\")\n",
    "print(f\"                     ({np_time/hw_time:.2f}x vs NumPy)\")\n"
   ]
  },
  {
   "cell_type": "code",
   "execution_count": 18,
   "metadata": {},
   "outputs": [
    {
     "data": {
      "image/png": "[encoded data removed]",
      "text/plain": [
       "<Figure size 1400x500 with 2 Axes>"
      ]
     },
     "metadata": {},
     "output_type": "display_data"
    },
    {
     "name": "stdout",
     "output_type": "stream",
     "text": [
      "\n",
      "✓ Batch performance analysis complete!\n"
     ]
    }
   ],
   "source": [
    "# ============================================\n",
    "# Cell 6: Visualize performance comparison\n",
    "# ============================================\n",
    "fig, (ax1, ax2) = plt.subplots(1, 2, figsize=(14, 5))\n",
    "\n",
    "# Estimated hardware performance\n",
    "clock_freq = 100e6\n",
    "cycles_per_op = 2\n",
    "hw_latency_ns = (cycles_per_op / clock_freq) * 1e9\n",
    "hw_throughput = clock_freq / cycles_per_op\n",
    "\n",
    "methods = ['Python\\nFP32', 'NumPy\\nVectorized', 'LMUL\\nBatch Sim', 'LMUL\\nReal HW\\n(est.)']\n",
    "times_us = [\n",
    "    py_per_op * 1e6,\n",
    "    np_per_op * 1e6,\n",
    "    hw_per_op * 1e6,\n",
    "    hw_latency_ns / 1000\n",
    "]\n",
    "colors = ['blue', 'green', 'orange', 'purple']\n",
    "\n",
    "# Plot 1: Latency\n",
    "bars = ax1.bar(methods, times_us, color=colors, alpha=0.7, edgecolor='black')\n",
    "ax1.set_ylabel('Time per operation (μs)', fontsize=12)\n",
    "ax1.set_title('Latency Comparison (Batch Mode)', fontsize=14, fontweight='bold')\n",
    "ax1.set_yscale('log')\n",
    "ax1.grid(True, alpha=0.3, which='both')\n",
    "\n",
    "for bar, time_val in zip(bars, times_us):\n",
    "    height = bar.get_height()\n",
    "    if time_val < 1:\n",
    "        label = f'{time_val:.3f}μs'\n",
    "    else:\n",
    "        label = f'{time_val:.2f}μs'\n",
    "    ax1.text(bar.get_x() + bar.get_width()/2., height,\n",
    "             label, ha='center', va='bottom', fontsize=9)\n",
    "\n",
    "# Plot 2: Throughput\n",
    "throughputs = [\n",
    "    num_ops / py_time,\n",
    "    num_ops / np_time,\n",
    "    num_ops / hw_time,\n",
    "    hw_throughput\n",
    "]\n",
    "\n",
    "bars = ax2.bar(methods, throughputs, color=colors, alpha=0.7, edgecolor='black')\n",
    "ax2.set_ylabel('Throughput (ops/sec)', fontsize=12)\n",
    "ax2.set_title('Throughput Comparison', fontsize=14, fontweight='bold')\n",
    "ax2.set_yscale('log')\n",
    "ax2.grid(True, alpha=0.3, which='both')\n",
    "\n",
    "for bar, throughput in zip(bars, throughputs):\n",
    "    height = bar.get_height()\n",
    "    if throughput < 1000:\n",
    "        label = f'{throughput:.0f}'\n",
    "    elif throughput < 1e6:\n",
    "        label = f'{throughput/1e3:.1f}K'\n",
    "    else:\n",
    "        label = f'{throughput/1e6:.1f}M'\n",
    "    ax2.text(bar.get_x() + bar.get_width()/2., height,\n",
    "             label, ha='center', va='bottom', fontsize=9)\n",
    "\n",
    "plt.tight_layout()\n",
    "plt.show()\n",
    "\n",
    "print(\"\\n✓ Batch performance analysis complete!\")"
   ]
  },
  {
   "cell_type": "code",
   "execution_count": null,
   "metadata": {},
   "outputs": [],
   "source": []
  }
 ],
 "metadata": {
  "kernelspec": {
   "display_name": "Python 3",
   "language": "python",
   "name": "python3"
  },
  "language_info": {
   "codemirror_mode": {
    "name": "ipython",
    "version": 3
   },
   "file_extension": ".py",
   "mimetype": "text/x-python",
   "name": "python",
   "nbconvert_exporter": "python",
   "pygments_lexer": "ipython3",
   "version": "3.10.12"
  }
 },
 "nbformat": 4,
 "nbformat_minor": 2
}
