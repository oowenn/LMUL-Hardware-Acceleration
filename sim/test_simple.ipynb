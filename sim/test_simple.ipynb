{
 "cells": [
  {
   "cell_type": "code",
   "execution_count": 1,
   "metadata": {},
   "outputs": [],
   "source": [
    "import os\n",
    "import subprocess\n",
    "import tempfile\n",
    "from pathlib import Path"
   ]
  },
  {
   "cell_type": "code",
   "execution_count": 2,
   "metadata": {},
   "outputs": [
    {
     "name": "stdout",
     "output_type": "stream",
     "text": [
      "CWD now: /workspaces/LMUL-Hardware-Acceleration\n"
     ]
    }
   ],
   "source": [
    "### SET CWD TO REPO ROOT\n",
    "\n",
    "os.chdir(Path.cwd().parent)\n",
    "print(\"CWD now:\", Path.cwd())"
   ]
  },
  {
   "cell_type": "code",
   "execution_count": 3,
   "metadata": {},
   "outputs": [],
   "source": [
    "def test_verilog_function(x, y, verilog_file='rtl/simple_function.v'):\n",
    "    \"\"\"\n",
    "    Test Verilog function using iverilog (simpler, no cocotb needed)\n",
    "    This is the EASIEST approach for Jupyter!\n",
    "    \"\"\"\n",
    "    # Create a testbench\n",
    "    testbench = f'''\n",
    "`timescale 1ns/1ps\n",
    "\n",
    "module tb;\n",
    "    reg [7:0] x, y;\n",
    "    wire [7:0] result;\n",
    "    \n",
    "    simple_function dut (\n",
    "        .x(x),\n",
    "        .y(y),\n",
    "        .result(result)\n",
    "    );\n",
    "    \n",
    "    initial begin\n",
    "        x = {x};\n",
    "        y = {y};\n",
    "        #1;\n",
    "        $display(\"%d\", result);\n",
    "        $finish;\n",
    "    end\n",
    "endmodule\n",
    "'''\n",
    "    \n",
    "    # Write testbench\n",
    "    with tempfile.NamedTemporaryFile(mode='w', suffix='.v', delete=False) as f:\n",
    "        tb_file = f.name\n",
    "        f.write(testbench)\n",
    "    \n",
    "    try:\n",
    "        # Compile with iverilog\n",
    "        out_file = '/tmp/sim.out'\n",
    "        compile_result = subprocess.run(\n",
    "            ['iverilog', '-o', out_file, verilog_file, tb_file],\n",
    "            capture_output=True,\n",
    "            text=True\n",
    "        )\n",
    "        \n",
    "        if compile_result.returncode != 0:\n",
    "            raise RuntimeError(f\"Compilation failed:\\n{compile_result.stderr}\")\n",
    "        \n",
    "        # Run simulation\n",
    "        sim_result = subprocess.run(\n",
    "            ['vvp', out_file],\n",
    "            capture_output=True,\n",
    "            text=True\n",
    "        )\n",
    "        \n",
    "        # Extract result\n",
    "        result = int(sim_result.stdout.strip())\n",
    "        return result\n",
    "        \n",
    "    finally:\n",
    "        # Cleanup\n",
    "        if os.path.exists(tb_file):\n",
    "            os.remove(tb_file)\n",
    "        if os.path.exists(out_file):\n",
    "            os.remove(out_file)"
   ]
  },
  {
   "cell_type": "code",
   "execution_count": 4,
   "metadata": {},
   "outputs": [],
   "source": [
    "def f(x, y):\n",
    "    \"\"\"Call Verilog function f(x,y) = x + y + 1\"\"\"\n",
    "    return test_verilog_function(x, y)"
   ]
  },
  {
   "cell_type": "code",
   "execution_count": 5,
   "metadata": {},
   "outputs": [
    {
     "name": "stdout",
     "output_type": "stream",
     "text": [
      "Running tests...\n",
      "f(5, 10) = 16 (expected: 16)\n",
      "f(100, 50) = 151 (expected: 151)\n",
      "f(0, 0) = 1 (expected: 1)\n",
      "f(255, 0) = 0 (expected: 0)\n"
     ]
    }
   ],
   "source": [
    "print(\"Running tests...\")\n",
    "print(f\"f(5, 10) = {f(5, 10)} (expected: 16)\")\n",
    "print(f\"f(100, 50) = {f(100, 50)} (expected: 151)\")\n",
    "print(f\"f(0, 0) = {f(0, 0)} (expected: 1)\")\n",
    "print(f\"f(255, 0) = {f(255, 0)} (expected: 0)\")"
   ]
  },
  {
   "cell_type": "code",
   "execution_count": null,
   "metadata": {},
   "outputs": [],
   "source": []
  }
 ],
 "metadata": {
  "kernelspec": {
   "display_name": "Python 3 (ipykernel)",
   "language": "python",
   "name": "python3"
  },
  "language_info": {
   "codemirror_mode": {
    "name": "ipython",
    "version": 3
   },
   "file_extension": ".py",
   "mimetype": "text/x-python",
   "name": "python",
   "nbconvert_exporter": "python",
   "pygments_lexer": "ipython3",
   "version": "3.10.12"
  }
 },
 "nbformat": 4,
 "nbformat_minor": 2
}
